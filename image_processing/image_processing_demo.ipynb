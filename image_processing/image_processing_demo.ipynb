{
 "cells": [
  {
   "cell_type": "code",
   "execution_count": 1,
   "metadata": {},
   "outputs": [
    {
     "ename": "ModuleNotFoundError",
     "evalue": "No module named 'file_utils'",
     "output_type": "error",
     "traceback": [
      "\u001b[0;31m---------------------------------------------------------------------------\u001b[0m",
      "\u001b[0;31mModuleNotFoundError\u001b[0m                       Traceback (most recent call last)",
      "Cell \u001b[0;32mIn[1], line 4\u001b[0m\n\u001b[1;32m      2\u001b[0m \u001b[38;5;28;01mimport\u001b[39;00m \u001b[38;5;21;01mnumpy\u001b[39;00m \u001b[38;5;28;01mas\u001b[39;00m \u001b[38;5;21;01mnp\u001b[39;00m\n\u001b[1;32m      3\u001b[0m \u001b[38;5;28;01mimport\u001b[39;00m \u001b[38;5;21;01mos\u001b[39;00m\n\u001b[0;32m----> 4\u001b[0m \u001b[38;5;28;01mfrom\u001b[39;00m \u001b[38;5;21;01mfile_utils\u001b[39;00m \u001b[38;5;28;01mimport\u001b[39;00m get_file_name_by_path \n\u001b[1;32m      6\u001b[0m SPACE_VER \u001b[38;5;241m=\u001b[39m \u001b[38;5;241m10\u001b[39m\n\u001b[1;32m      7\u001b[0m SPACE_HOR \u001b[38;5;241m=\u001b[39m \u001b[38;5;241m30\u001b[39m\n",
      "\u001b[0;31mModuleNotFoundError\u001b[0m: No module named 'file_utils'"
     ]
    }
   ],
   "source": [
    "from PIL import Image, ImageDraw, ImageFont\n",
    "import numpy as np\n",
    "import os\n",
    "from file_utils import get_file_name_by_path \n",
    "\n",
    "SPACE_VER = 10\n",
    "SPACE_HOR = 30\n",
    "\n",
    "# Function to create a mask from polygon\n",
    "\n",
    "\n",
    "def get_bounding_box(image_np):\n",
    "    coords = np.argwhere(image_np != 0)\n",
    "    print(coords)\n",
    "    y0, x0 = coords.min(axis=0)\n",
    "    y1, x1 = coords.max(axis=0) + 1\n",
    "    return (x0, y0, x1, y1)\n",
    "\n",
    "def crop_and_save_image(image_path, label_path, dest):\n",
    "    image = Image.open(image_path)\n",
    "    image_id = image_path.split('.')[2]\n",
    "    # Get dimension image\n",
    "    x, y = image.size\n",
    "    with open(label_path, 'r') as file:\n",
    "        lines = file.readlines()\n",
    "\n",
    "    for i, line in enumerate(lines):\n",
    "        # Group coordinates into pairs\n",
    "        polygon_coords, class_id = get_polygon_coords(line, x, y)\n",
    "\n",
    "        # Create a mask for the polygon\n",
    "        mask = create_mask_from_polygon(image.size, polygon_coords, i)\n",
    "\n",
    "        # Convert mask to numpy array\n",
    "        mask_np = np.array(mask)\n",
    "        # Crop the image using the mask\n",
    "        crop_image = create_crop_image_matrix(image, mask_np)\n",
    "\n",
    "        # Save the cropped image\n",
    "        cropped_image_path = f'{dest}/{class_id}_{image_id}_{i}.png'\n",
    "        if not os.path.exists(dest):\n",
    "            os.makedirs(dest)\n",
    "        crop_image.save(cropped_image_path)\n",
    "        print(f'Cropped image saved to {cropped_image_path}')\n",
    "\n",
    "\n",
    "\n",
    "\n",
    "\n",
    "\n",
    "def extract_non_background_mean_color(img_np):\n",
    "    # Flatten the image to a 2D array where each row is a pixel's BGR values\n",
    "    img_flat = img_np.reshape(-1, 3)\n",
    "\n",
    "    # Create a mask to filter out the background pixels (assuming background is white with all zero values)\n",
    "    non_background_mask = np.any(img_flat != [255, 255, 255], axis=1)\n",
    "\n",
    "    # Filter the non-background pixels\n",
    "    non_background_pixels = img_flat[non_background_mask]\n",
    "\n",
    "    # Calculate the mean color of the non-background pixels\n",
    "    if len(non_background_pixels) == 0:\n",
    "        # If there are no non-background pixels, return a default value (e.g., black)\n",
    "        return np.array([255, 255, 255])\n",
    "    else:\n",
    "        return non_background_pixels.mean(axis=0)\n",
    "\n",
    "def save_predict_and_groundtruth(predict_path, gt_path, dest):\n",
    "    os.makedirs(dest, exist_ok=True)\n",
    "    # Load the images   \n",
    "    predicted_image = Image.open(predict_path)\n",
    "    ground_truth_image = Image.open(gt_path)\n",
    "\n",
    "    # Get dimensions of the images\n",
    "    pred_width, pred_height = predicted_image.size\n",
    "    gt_width, gt_height = ground_truth_image.size\n",
    "\n",
    "\n",
    "    # Create a new image with enough SPACE_VER to hold both images side by side\n",
    "    combined_width = pred_width + gt_width + SPACE_VER\n",
    "    combined_height = max(pred_height, gt_height) + SPACE_HOR\n",
    "    combined_image = Image.new('RGB', (combined_width, combined_height))\n",
    "\n",
    "    # Paste the images onto the combined canvas\n",
    "    combined_image.paste(predicted_image, (0, SPACE_HOR))\n",
    "    combined_image.paste(ground_truth_image, (pred_width + SPACE_VER, SPACE_HOR))\n",
    "\n",
    "    # Draw a vertical line to separate the two images\n",
    "    draw = ImageDraw.Draw(combined_image)\n",
    "    line_x = pred_width + SPACE_VER / 2  # x-coordinate of the vertical line\n",
    "    draw.line([(line_x, 0), (line_x, combined_height)], fill=\"red\", width=5)\n",
    "\n",
    "    # set text\n",
    "    font = ImageFont.load_default(size=25)\n",
    "    predict_text_location = (pred_width / 2, 0)\n",
    "    draw.text(predict_text_location, \"Predict\", fill=\"white\", font=font)\n",
    "\n",
    "    true_text_location = (pred_width + SPACE_VER + gt_width/2, 0)\n",
    "    class_test = f\"category_id\"\n",
    "    draw.text(true_text_location, \"GroundTrue\", fill=\"white\", font=font)\n",
    "\n",
    "    # Save or display the combined image\n",
    "    file_name = get_file_name_by_path(gt_path)\n",
    "    file_path = f\"{dest}/combine_{file_name}\"\n",
    "    combined_image.save(file_path)\n",
    "\n",
    "\n"
   ]
  },
  {
   "cell_type": "code",
   "execution_count": 1,
   "metadata": {},
   "outputs": [],
   "source": [
    "from PIL import Image, ImageDraw, ImageFont\n",
    "import numpy as np\n",
    "import os"
   ]
  },
  {
   "cell_type": "code",
   "execution_count": 2,
   "metadata": {},
   "outputs": [],
   "source": [
    "def get_bounding_box(image_np):\n",
    "    coords = np.argwhere(image_np != 0)\n",
    "    print(coords)\n",
    "    y0, x0 = coords.min(axis=0)\n",
    "    y1, x1 = coords.max(axis=0) + 1\n",
    "    return (x0, y0, x1, y1)"
   ]
  },
  {
   "cell_type": "code",
   "execution_count": 49,
   "metadata": {},
   "outputs": [],
   "source": [
    "def create_mask_from_polygon(image_size, polygon):\n",
    "    mask = Image.new('L', image_size, 0)  # Create a new black image for the mask\n",
    "    ImageDraw.Draw(mask).polygon(polygon, outline=1, fill=1)# Draw the polygon on the mask\n",
    "    return mask"
   ]
  },
  {
   "cell_type": "code",
   "execution_count": 56,
   "metadata": {},
   "outputs": [],
   "source": [
    "def create_crop_image_matrix(image, mask_np):\n",
    "    image_np = np.array(image)\n",
    "    white_background = np.ones_like(image_np) * 255\n",
    "\n",
    "    # crop image with white background\n",
    "    masked_image_np = np.where(mask_np[:, :, None] == 1, image_np, white_background)\n",
    "    crop_boundingbox = get_bounding_box(mask_np)\n",
    "    masked_image = Image.fromarray(masked_image_np)\n",
    "    ImageDraw.Draw(masked_image).rectangle(crop_boundingbox, outline=1, fill=None, width=2)\n",
    "    return masked_image.crop(crop_boundingbox)"
   ]
  },
  {
   "cell_type": "code",
   "execution_count": 7,
   "metadata": {},
   "outputs": [],
   "source": [
    "def get_polygon_coords(line, x=64, y=64):\n",
    "    parts = line.strip().split()\n",
    "    class_id = parts[0]\n",
    "    coords = list(map(float, parts[1:]))\n",
    "\n",
    "    # Group coordinates into pairs\n",
    "    return [(coords[j] * x, coords[j + 1]* y) for j in range(0, len(coords), 2)], class_id"
   ]
  },
  {
   "cell_type": "code",
   "execution_count": 50,
   "metadata": {},
   "outputs": [],
   "source": [
    "def crop_and_save_image(image_path, label_path, dest):\n",
    "    image = Image.open(image_path)\n",
    "    image.save(f\"origin.png\")\n",
    "    # image_id = image_path.split('.')[2]\n",
    "    # Get dimension image\n",
    "    x, y = image.size\n",
    "    with open(label_path, 'r') as file:\n",
    "        lines = file.readlines()\n",
    "\n",
    "    for i, line in enumerate(lines):\n",
    "        # Group coordinates into pairs\n",
    "        polygon_coords, class_id = get_polygon_coords(line, x, y)\n",
    "\n",
    "        # Create a mask for the polygon\n",
    "        mask = create_mask_from_polygon(image.size, polygon_coords)\n",
    "\n",
    "        # Convert mask to numpy array\n",
    "        mask_np = np.array(mask)\n",
    "        # Crop the image using the mask\n",
    "        crop_image = create_crop_image_matrix(image, mask_np)\n",
    "\n",
    "        # Save the cropped image\n",
    "        cropped_image_path = f'{dest}/{class_id}_result_{i}.png'\n",
    "        if not os.path.exists(dest):\n",
    "            os.makedirs(dest)\n",
    "        crop_image.save(cropped_image_path)\n",
    "        print(f'Cropped image saved to {cropped_image_path}')\n"
   ]
  },
  {
   "cell_type": "code",
   "execution_count": 58,
   "metadata": {},
   "outputs": [
    {
     "name": "stdout",
     "output_type": "stream",
     "text": [
      "[[270 421]\n",
      " [270 422]\n",
      " [270 423]\n",
      " ...\n",
      " [400 447]\n",
      " [400 448]\n",
      " [400 449]]\n",
      "Cropped image saved to result/1_result_0.png\n",
      "[[306 567]\n",
      " [306 568]\n",
      " [306 569]\n",
      " ...\n",
      " [420 555]\n",
      " [420 556]\n",
      " [420 557]]\n",
      "Cropped image saved to result/1_result_1.png\n",
      "[[500 427]\n",
      " [500 432]\n",
      " [500 433]\n",
      " ...\n",
      " [612 420]\n",
      " [612 421]\n",
      " [612 422]]\n",
      "Cropped image saved to result/1_result_2.png\n",
      "[[453 374]\n",
      " [453 375]\n",
      " [453 376]\n",
      " ...\n",
      " [568 348]\n",
      " [568 349]\n",
      " [568 350]]\n",
      "Cropped image saved to result/1_result_3.png\n",
      "[[300 325]\n",
      " [300 326]\n",
      " [300 327]\n",
      " ...\n",
      " [390 319]\n",
      " [390 320]\n",
      " [390 321]]\n",
      "Cropped image saved to result/1_result_4.png\n",
      "[[190 255]\n",
      " [190 256]\n",
      " [190 257]\n",
      " ...\n",
      " [271 260]\n",
      " [271 261]\n",
      " [271 262]]\n",
      "Cropped image saved to result/2_result_5.png\n",
      "[[312 364]\n",
      " [312 365]\n",
      " [312 366]\n",
      " ...\n",
      " [431 373]\n",
      " [431 374]\n",
      " [431 375]]\n",
      "Cropped image saved to result/2_result_6.png\n"
     ]
    }
   ],
   "source": [
    "img_path = '../dataset/ivyqo_augment_dataset/test/images/20240324_103222_jpg.rf.569fa4192ab32e3b3479efce78f85d9e.jpg'\n",
    "label_path = '../dataset/ivyqo_augment_dataset/test/labels/20240324_103222_jpg.rf.569fa4192ab32e3b3479efce78f85d9e.txt'\n",
    "crop_and_save_image(img_path, label_path, 'result')"
   ]
  },
  {
   "cell_type": "code",
   "execution_count": 4,
   "metadata": {},
   "outputs": [],
   "source": [
    "import torch.nn as nn\n",
    "import torch\n",
    "\n",
    "m = nn.Dropout(p=0.2)\n",
    "input = torch.randn(20, 16)\n",
    "output = m(input)"
   ]
  },
  {
   "cell_type": "code",
   "execution_count": 6,
   "metadata": {},
   "outputs": [
    {
     "data": {
      "text/plain": [
       "0"
      ]
     },
     "execution_count": 6,
     "metadata": {},
     "output_type": "execute_result"
    }
   ],
   "source": [
    "input\n",
    "num_zero_input = torch.sum(input == 0).item()\n",
    "num_zero_input"
   ]
  },
  {
   "cell_type": "code",
   "execution_count": 7,
   "metadata": {},
   "outputs": [
    {
     "data": {
      "text/plain": [
       "51"
      ]
     },
     "execution_count": 7,
     "metadata": {},
     "output_type": "execute_result"
    }
   ],
   "source": [
    "output\n",
    "num_zero_output = torch.sum(output == 0).item()\n",
    "num_zero_output"
   ]
  }
 ],
 "metadata": {
  "kernelspec": {
   "display_name": "thesis",
   "language": "python",
   "name": "python3"
  },
  "language_info": {
   "codemirror_mode": {
    "name": "ipython",
    "version": 3
   },
   "file_extension": ".py",
   "mimetype": "text/x-python",
   "name": "python",
   "nbconvert_exporter": "python",
   "pygments_lexer": "ipython3",
   "version": "3.10.14"
  }
 },
 "nbformat": 4,
 "nbformat_minor": 2
}
