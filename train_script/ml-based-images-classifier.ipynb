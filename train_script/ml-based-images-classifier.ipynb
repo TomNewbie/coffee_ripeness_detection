{
 "cells": [
  {
   "cell_type": "code",
   "execution_count": 1,
   "id": "8a1ec799",
   "metadata": {
    "execution": {
     "iopub.execute_input": "2024-07-02T05:42:42.279989Z",
     "iopub.status.busy": "2024-07-02T05:42:42.279605Z",
     "iopub.status.idle": "2024-07-02T05:44:01.311804Z",
     "shell.execute_reply": "2024-07-02T05:44:01.310638Z"
    },
    "papermill": {
     "duration": 79.041093,
     "end_time": "2024-07-02T05:44:01.314012",
     "exception": false,
     "start_time": "2024-07-02T05:42:42.272919",
     "status": "completed"
    },
    "tags": []
   },
   "outputs": [
    {
     "name": "stdout",
     "output_type": "stream",
     "text": [
      "Requirement already satisfied: scikit-learn in /home/topaci/miniconda3/envs/thesis/lib/python3.10/site-packages (1.5.1)\n",
      "Requirement already satisfied: numpy>=1.19.5 in /home/topaci/miniconda3/envs/thesis/lib/python3.10/site-packages (from scikit-learn) (1.26.4)\n",
      "Requirement already satisfied: scipy>=1.6.0 in /home/topaci/miniconda3/envs/thesis/lib/python3.10/site-packages (from scikit-learn) (1.14.0)\n",
      "Requirement already satisfied: joblib>=1.2.0 in /home/topaci/miniconda3/envs/thesis/lib/python3.10/site-packages (from scikit-learn) (1.4.2)\n",
      "Requirement already satisfied: threadpoolctl>=3.1.0 in /home/topaci/miniconda3/envs/thesis/lib/python3.10/site-packages (from scikit-learn) (3.5.0)\n",
      "Note: you may need to restart the kernel to use updated packages.\n",
      "Collecting imutils\n",
      "  Downloading imutils-0.5.4.tar.gz (17 kB)\n",
      "  Preparing metadata (setup.py) ... \u001b[?25ldone\n",
      "\u001b[?25hBuilding wheels for collected packages: imutils\n",
      "  Building wheel for imutils (setup.py) ... \u001b[?25ldone\n",
      "\u001b[?25h  Created wheel for imutils: filename=imutils-0.5.4-py3-none-any.whl size=25836 sha256=348e28fea74293469a07031c308bb00453731148314aab8e1bfdcdc44cf7ab0a\n",
      "  Stored in directory: /home/topaci/.cache/pip/wheels/85/cf/3a/e265e975a1e7c7e54eb3692d6aa4e2e7d6a3945d29da46f2d7\n",
      "Successfully built imutils\n",
      "Installing collected packages: imutils\n",
      "Successfully installed imutils-0.5.4\n",
      "Note: you may need to restart the kernel to use updated packages.\n",
      "Collecting opencv-python-headless\n",
      "  Downloading opencv_python_headless-4.10.0.84-cp37-abi3-manylinux_2_17_x86_64.manylinux2014_x86_64.whl.metadata (20 kB)\n",
      "Requirement already satisfied: numpy>=1.21.2 in /home/topaci/miniconda3/envs/thesis/lib/python3.10/site-packages (from opencv-python-headless) (1.26.4)\n",
      "Downloading opencv_python_headless-4.10.0.84-cp37-abi3-manylinux_2_17_x86_64.manylinux2014_x86_64.whl (49.9 MB)\n",
      "\u001b[2K   \u001b[90m━━━━━━━━━━━━━━━━━━━━━━━━━━━━━━━━━━━━━━━━\u001b[0m \u001b[32m49.9/49.9 MB\u001b[0m \u001b[31m31.8 MB/s\u001b[0m eta \u001b[36m0:00:00\u001b[0m00:01\u001b[0m00:01\u001b[0m\n",
      "\u001b[?25hInstalling collected packages: opencv-python-headless\n",
      "Successfully installed opencv-python-headless-4.10.0.84\n",
      "Note: you may need to restart the kernel to use updated packages.\n",
      "Requirement already satisfied: numpy in /home/topaci/miniconda3/envs/thesis/lib/python3.10/site-packages (1.26.4)\n",
      "Note: you may need to restart the kernel to use updated packages.\n",
      "Collecting argparse\n",
      "  Downloading argparse-1.4.0-py2.py3-none-any.whl.metadata (2.8 kB)\n",
      "Downloading argparse-1.4.0-py2.py3-none-any.whl (23 kB)\n",
      "Installing collected packages: argparse\n",
      "Successfully installed argparse-1.4.0\n",
      "Note: you may need to restart the kernel to use updated packages.\n",
      "Requirement already satisfied: matplotlib in /home/topaci/miniconda3/envs/thesis/lib/python3.10/site-packages (3.9.1)\n",
      "Requirement already satisfied: contourpy>=1.0.1 in /home/topaci/miniconda3/envs/thesis/lib/python3.10/site-packages (from matplotlib) (1.2.1)\n",
      "Requirement already satisfied: cycler>=0.10 in /home/topaci/miniconda3/envs/thesis/lib/python3.10/site-packages (from matplotlib) (0.12.1)\n",
      "Requirement already satisfied: fonttools>=4.22.0 in /home/topaci/miniconda3/envs/thesis/lib/python3.10/site-packages (from matplotlib) (4.53.1)\n",
      "Requirement already satisfied: kiwisolver>=1.3.1 in /home/topaci/miniconda3/envs/thesis/lib/python3.10/site-packages (from matplotlib) (1.4.5)\n",
      "Requirement already satisfied: numpy>=1.23 in /home/topaci/miniconda3/envs/thesis/lib/python3.10/site-packages (from matplotlib) (1.26.4)\n",
      "Requirement already satisfied: packaging>=20.0 in /home/topaci/miniconda3/envs/thesis/lib/python3.10/site-packages (from matplotlib) (23.2)\n",
      "Requirement already satisfied: pillow>=8 in /home/topaci/miniconda3/envs/thesis/lib/python3.10/site-packages (from matplotlib) (10.4.0)\n",
      "Requirement already satisfied: pyparsing>=2.3.1 in /home/topaci/miniconda3/envs/thesis/lib/python3.10/site-packages (from matplotlib) (3.1.2)\n",
      "Requirement already satisfied: python-dateutil>=2.7 in /home/topaci/miniconda3/envs/thesis/lib/python3.10/site-packages (from matplotlib) (2.9.0.post0)\n",
      "Requirement already satisfied: six>=1.5 in /home/topaci/miniconda3/envs/thesis/lib/python3.10/site-packages (from python-dateutil>=2.7->matplotlib) (1.16.0)\n",
      "Note: you may need to restart the kernel to use updated packages.\n"
     ]
    }
   ],
   "source": [
    "%pip install scikit-learn\n",
    "%pip install imutils\n",
    "%pip install opencv-python-headless\n",
    "%pip install numpy\n",
    "%pip install argparse\n",
    "%pip install matplotlib"
   ]
  },
  {
   "cell_type": "code",
   "execution_count": 2,
   "id": "ea24c4ac",
   "metadata": {
    "_cell_guid": "b1076dfc-b9ad-4769-8c92-a6c4dae69d19",
    "_uuid": "8f2839f25d086af736a60e9eeb907d3b93b6e0e5",
    "execution": {
     "iopub.execute_input": "2024-07-02T05:44:01.329587Z",
     "iopub.status.busy": "2024-07-02T05:44:01.328697Z",
     "iopub.status.idle": "2024-07-02T05:44:02.814976Z",
     "shell.execute_reply": "2024-07-02T05:44:02.814177Z"
    },
    "papermill": {
     "duration": 1.496441,
     "end_time": "2024-07-02T05:44:02.817384",
     "exception": false,
     "start_time": "2024-07-02T05:44:01.320943",
     "status": "completed"
    },
    "tags": []
   },
   "outputs": [],
   "source": [
    "from sklearn.preprocessing import LabelEncoder\n",
    "from sklearn.svm import LinearSVC\n",
    "from sklearn.svm import SVC\n",
    "from sklearn import svm\n",
    "from sklearn.metrics import classification_report\n",
    "from sklearn.model_selection import train_test_split\n",
    "from imutils import paths\n",
    "import numpy as np\n",
    "import argparse\n",
    "import imutils\n",
    "import cv2\n",
    "import os\n",
    "import _pickle as cPickle\n",
    "from matplotlib import pyplot as plt"
   ]
  },
  {
   "cell_type": "code",
   "execution_count": 3,
   "id": "8c66b994",
   "metadata": {
    "execution": {
     "iopub.execute_input": "2024-07-02T05:44:02.832607Z",
     "iopub.status.busy": "2024-07-02T05:44:02.831673Z",
     "iopub.status.idle": "2024-07-02T05:44:02.876788Z",
     "shell.execute_reply": "2024-07-02T05:44:02.875997Z"
    },
    "papermill": {
     "duration": 0.055111,
     "end_time": "2024-07-02T05:44:02.879222",
     "exception": false,
     "start_time": "2024-07-02T05:44:02.824111",
     "status": "completed"
    },
    "tags": []
   },
   "outputs": [],
   "source": [
    "# import cv2\n",
    "# import numpy as np\n",
    "# import os\n",
    "import sys\n",
    "import time\n",
    "from tkinter import Tk\n",
    "from tkinter import filedialog\n",
    "from tkinter import Tcl\n",
    "\n",
    "def get_file_list(file_extension, folder_path):\n",
    "    in_folder_path = folder_path\n",
    "\n",
    "    files = []\n",
    "    # r=root, d=directories, f = files\n",
    "    for r, d, f in os.walk(in_folder_path):\n",
    "        for file in f: \n",
    "            if file_extension in file:\n",
    "                files.append(os.path.join(r, file))\n",
    "\n",
    "    # print(len(files))\n",
    "    return Tcl().call('lsort', '-dict', files)\n",
    "\n",
    "def get_file_name_and_ext(file_path):\n",
    "    file_name, file_ext = os.path.splitext(os.path.basename(file_path))\n",
    "    return file_name, file_ext\n",
    "\n",
    "def extract_files_names(file_paths):\n",
    "    files_names = []\n",
    "    for img_path in file_paths:\n",
    "        image_name, img_ext = get_file_name_and_ext(img_path)\n",
    "        # if (image_name.startswith('img')):\n",
    "        files_names.append(image_name)\n",
    "    return files_names"
   ]
  },
  {
   "cell_type": "code",
   "execution_count": 4,
   "id": "0933d519",
   "metadata": {
    "execution": {
     "iopub.execute_input": "2024-07-02T05:44:02.894469Z",
     "iopub.status.busy": "2024-07-02T05:44:02.893748Z",
     "iopub.status.idle": "2024-07-02T05:44:02.899416Z",
     "shell.execute_reply": "2024-07-02T05:44:02.898494Z"
    },
    "papermill": {
     "duration": 0.01561,
     "end_time": "2024-07-02T05:44:02.901527",
     "exception": false,
     "start_time": "2024-07-02T05:44:02.885917",
     "status": "completed"
    },
    "tags": []
   },
   "outputs": [],
   "source": [
    "def digit_to_label(digit):\n",
    "  label = int(digit)\n",
    "  if label == 0:\n",
    "      label = 'overripe'\n",
    "  elif label == 1:\n",
    "      label = 'ripe'\n",
    "  elif label == 2:\n",
    "      label = 'semi_ripe'\n",
    "  elif label == 3:\n",
    "      label = 'unripe'\n",
    "  return label"
   ]
  },
  {
   "cell_type": "code",
   "execution_count": 6,
   "id": "b2223d03",
   "metadata": {
    "execution": {
     "iopub.execute_input": "2024-07-02T05:44:02.916480Z",
     "iopub.status.busy": "2024-07-02T05:44:02.915799Z",
     "iopub.status.idle": "2024-07-02T05:44:02.921868Z",
     "shell.execute_reply": "2024-07-02T05:44:02.921001Z"
    },
    "papermill": {
     "duration": 0.015661,
     "end_time": "2024-07-02T05:44:02.923819",
     "exception": false,
     "start_time": "2024-07-02T05:44:02.908158",
     "status": "completed"
    },
    "tags": []
   },
   "outputs": [],
   "source": [
    "def extract_color_histogram(image, bins=(8, 8, 8)):\n",
    "  hsv = cv2.cvtColor(image, cv2.COLOR_BGR2HSV)\n",
    "  hist = cv2.calcHist([hsv], [0, 1, 2], None, bins, [0, 180, 0, 256, 0, 256])\n",
    "  \n",
    "  if imutils.is_cv2():\n",
    "    hist = cv2.normalize(hist)\n",
    "  else:\n",
    "    cv2.normalize(hist, hist)\n",
    "  \n",
    "  return hist.flatten()"
   ]
  },
  {
   "cell_type": "code",
   "execution_count": 7,
   "id": "858051b5",
   "metadata": {
    "execution": {
     "iopub.execute_input": "2024-07-02T05:44:02.937946Z",
     "iopub.status.busy": "2024-07-02T05:44:02.937634Z",
     "iopub.status.idle": "2024-07-02T05:44:02.946692Z",
     "shell.execute_reply": "2024-07-02T05:44:02.945998Z"
    },
    "papermill": {
     "duration": 0.018279,
     "end_time": "2024-07-02T05:44:02.948652",
     "exception": false,
     "start_time": "2024-07-02T05:44:02.930373",
     "status": "completed"
    },
    "tags": []
   },
   "outputs": [],
   "source": [
    "# image_names = extract_files_names(img_files)\n",
    "# print(f\"Name of the first image file: {image_names[img_id]}\\nNumber of the extracted image names: {len(image_names)}\\n\")\n",
    "\n",
    "# img_label = image_names[img_id].split('_')[1]\n",
    "# print(f\"Label of the image: {img_label}\\n\")\n",
    "total_labels = []\n",
    "\n",
    "def get_image_data(dir_path, file_ext=\".png\"):\n",
    "    data = []\n",
    "    labels = []\n",
    "\n",
    "    img_files = get_file_list(file_ext, dir_path)\n",
    "    img_id = 0\n",
    "    print(f\"The full path of the first image file: {img_files[img_id]}\\nNumber of image files in the selected folder: {len(img_files)}\\n\")\n",
    "    start_time = time.time()\n",
    "    for i, img_path in enumerate(img_files):\n",
    "      image_name, image_ext = get_file_name_and_ext(img_path)\n",
    "      img_label = image_name.split('_')[0]\n",
    "      img_label = digit_to_label(img_label)\n",
    "      # image = cv2.cvtColor(cv2.imread(img_path), cv2.COLOR_BGR2RGB)\n",
    "      image = cv2.imread(img_path)\n",
    "\n",
    "\n",
    "      if (image is not None):\n",
    "        hist = extract_color_histogram(image)\n",
    "        data.append(hist)\n",
    "        labels.append(img_label)\n",
    "        total_labels.append(img_label)\n",
    "      else : print(imagePath); print(image)\n",
    "\n",
    "\n",
    "      if i > 0 and i % 1000 == 0:\n",
    "          print(\"{}/{}\".format(i, len(img_files)))\n",
    "\n",
    "      # X.append(resized_image)\n",
    "      # Y.append(img_label)\n",
    "    end_time = time.time()\n",
    "    print(f\"{len(img_files)} image files have been loaded in {round((end_time - start_time), 2)} seconds.\\n\")\n",
    "    return np.array(data), labels\n"
   ]
  },
  {
   "cell_type": "code",
   "execution_count": 8,
   "id": "0d34c0bf",
   "metadata": {
    "execution": {
     "iopub.execute_input": "2024-07-02T05:44:02.963105Z",
     "iopub.status.busy": "2024-07-02T05:44:02.962560Z",
     "iopub.status.idle": "2024-07-02T05:49:14.394115Z",
     "shell.execute_reply": "2024-07-02T05:49:14.393010Z"
    },
    "papermill": {
     "duration": 311.441113,
     "end_time": "2024-07-02T05:49:14.396353",
     "exception": false,
     "start_time": "2024-07-02T05:44:02.955240",
     "status": "completed"
    },
    "tags": []
   },
   "outputs": [
    {
     "name": "stdout",
     "output_type": "stream",
     "text": [
      "The full path of the first image file: ../dataset/ivyqo/crop/train/0_0a1fd67636b678238bd91de546914006_0.png\n",
      "Number of image files in the selected folder: 17741\n",
      "\n",
      "1000/17741\n",
      "2000/17741\n",
      "3000/17741\n",
      "4000/17741\n",
      "5000/17741\n",
      "6000/17741\n",
      "7000/17741\n",
      "8000/17741\n",
      "9000/17741\n",
      "10000/17741\n",
      "11000/17741\n",
      "12000/17741\n",
      "13000/17741\n",
      "14000/17741\n",
      "15000/17741\n",
      "16000/17741\n",
      "17000/17741\n",
      "17741 image files have been loaded in 8.83 seconds.\n",
      "\n",
      "The full path of the first image file: ../dataset/ivyqo/crop/test/0_0a095606dd17e4f89874da3b29a518ef_0.png\n",
      "Number of image files in the selected folder: 4078\n",
      "\n",
      "1000/4078\n",
      "2000/4078\n",
      "3000/4078\n",
      "4000/4078\n",
      "4078 image files have been loaded in 1.77 seconds.\n",
      "\n"
     ]
    }
   ],
   "source": [
    "file_ext = \".png\"\n",
    "dir_train_path = \"../dataset/ivyqo/crop/train\"\n",
    "dir_test_path = \"../dataset/ivyqo/crop/test\"\n",
    "train_data, train_label = get_image_data(dir_train_path)\n",
    "test_data, test_label = get_image_data(dir_test_path)\n"
   ]
  },
  {
   "cell_type": "code",
   "execution_count": 9,
   "id": "4a50b6bc",
   "metadata": {
    "execution": {
     "iopub.execute_input": "2024-07-02T05:49:14.418559Z",
     "iopub.status.busy": "2024-07-02T05:49:14.418247Z",
     "iopub.status.idle": "2024-07-02T05:49:14.447040Z",
     "shell.execute_reply": "2024-07-02T05:49:14.445993Z"
    },
    "papermill": {
     "duration": 0.042277,
     "end_time": "2024-07-02T05:49:14.449134",
     "exception": false,
     "start_time": "2024-07-02T05:49:14.406857",
     "status": "completed"
    },
    "tags": []
   },
   "outputs": [
    {
     "name": "stdout",
     "output_type": "stream",
     "text": [
      "[0 0 0 ... 3 3 3]\n",
      "['overripe' 'ripe' 'semi_ripe' 'unripe']\n"
     ]
    }
   ],
   "source": [
    "le = LabelEncoder()\n",
    "fit_labels = le.fit_transform(total_labels)\n",
    "print(fit_labels)\n",
    "print(le.classes_)"
   ]
  },
  {
   "cell_type": "code",
   "execution_count": 10,
   "id": "50795d2b",
   "metadata": {
    "execution": {
     "iopub.execute_input": "2024-07-02T05:49:14.472432Z",
     "iopub.status.busy": "2024-07-02T05:49:14.471650Z",
     "iopub.status.idle": "2024-07-02T05:49:14.631857Z",
     "shell.execute_reply": "2024-07-02T05:49:14.631083Z"
    },
    "papermill": {
     "duration": 0.174182,
     "end_time": "2024-07-02T05:49:14.634235",
     "exception": false,
     "start_time": "2024-07-02T05:49:14.460053",
     "status": "completed"
    },
    "tags": []
   },
   "outputs": [],
   "source": [
    "from sklearn.neural_network import MLPClassifier\n",
    "from sklearn.neighbors import KNeighborsClassifier\n",
    "from sklearn.svm import SVC\n",
    "from sklearn.gaussian_process import GaussianProcessClassifier\n",
    "from sklearn.gaussian_process.kernels import RBF\n",
    "from sklearn.tree import DecisionTreeClassifier\n",
    "from sklearn.ensemble import RandomForestClassifier, AdaBoostClassifier\n",
    "from sklearn.naive_bayes import GaussianNB\n",
    "from sklearn.discriminant_analysis import QuadraticDiscriminantAnalysis\n",
    "\n",
    "names = [\n",
    "          \"K Nearest Neighbors\",\n",
    "          \"Linear SVM\",\n",
    "          \"RBF SVM\",\n",
    "          \"Gaussian Process\",\n",
    "          \"Decision Tree\",\n",
    "          \"Random Forest\",\n",
    "          \"Neural Net\",\n",
    "          \"AdaBoost\",\n",
    "          \"Naive Bayes\",\n",
    "          \"QDA\"\n",
    "          ]\n",
    "\n",
    "classifiers = [\n",
    "                KNeighborsClassifier(3),\n",
    "                SVC(kernel=\"linear\", C=0.025),\n",
    "                SVC(gamma=2, C=1),\n",
    "                GaussianProcessClassifier(1.0 * RBF(1.0)),\n",
    "                DecisionTreeClassifier(max_depth=5),\n",
    "                RandomForestClassifier(max_depth=5, n_estimators=10, max_features=1),\n",
    "                MLPClassifier(alpha=1, max_iter=1000),\n",
    "                AdaBoostClassifier(),\n",
    "                GaussianNB(),\n",
    "                QuadraticDiscriminantAnalysis()\n",
    "                ]"
   ]
  },
  {
   "cell_type": "code",
   "execution_count": 11,
   "id": "5661441e",
   "metadata": {
    "execution": {
     "iopub.execute_input": "2024-07-02T05:49:14.657556Z",
     "iopub.status.busy": "2024-07-02T05:49:14.656726Z"
    },
    "papermill": {
     "duration": 165.284573,
     "end_time": "2024-07-02T05:51:59.929492",
     "exception": false,
     "start_time": "2024-07-02T05:49:14.644919",
     "status": "completed"
    },
    "tags": []
   },
   "outputs": [],
   "source": [
    "classifier_id = 3\n",
    "model = classifiers[classifier_id]\n",
    "start_timeTr = time.time()\n",
    "model.fit(train_data, train_label)\n",
    "end_timeTr = time.time()\n",
    "print(f\"Training time: {round((end_time-start_time)/60,2)} minutes\\n\")"
   ]
  },
  {
   "cell_type": "code",
   "execution_count": null,
   "id": "71165b09",
   "metadata": {
    "execution": {
     "iopub.execute_input": "2024-06-30T10:18:10.507937Z",
     "iopub.status.busy": "2024-06-30T10:18:10.507265Z"
    },
    "papermill": {
     "duration": null,
     "end_time": null,
     "exception": null,
     "start_time": null,
     "status": "completed"
    },
    "tags": []
   },
   "outputs": [],
   "source": [
    "for name, clf in zip(names, classifiers):\n",
    "    print(f\"Name of the Classifier: {name}\")\n",
    "    # model = classifiers[1]\n",
    "    training_time_Start = time.time()\n",
    "    clf.fit(train_data, train_label)\n",
    "    training_time_End = time.time()\n",
    "    print(f\"Training time is : {round((training_time_End-training_time_Start)/60, 2)} minutes\")\n",
    "    predictions = clf.predict(test_data)\n",
    "    \n",
    "    print(classification_report(test_label, predictions, target_names=le.classes_))\n",
    "    print(\"\\n\")\n"
   ]
  },
  {
   "cell_type": "code",
   "execution_count": null,
   "id": "a9f382e5",
   "metadata": {
    "execution": {
     "iopub.execute_input": "2024-06-30T10:03:57.952601Z",
     "iopub.status.busy": "2024-06-30T10:03:57.951697Z",
     "iopub.status.idle": "2024-06-30T10:03:57.957086Z",
     "shell.execute_reply": "2024-06-30T10:03:57.956152Z",
     "shell.execute_reply.started": "2024-06-30T10:03:57.952567Z"
    },
    "papermill": {
     "duration": null,
     "end_time": null,
     "exception": null,
     "start_time": null,
     "status": "completed"
    },
    "tags": []
   },
   "outputs": [],
   "source": []
  },
  {
   "cell_type": "code",
   "execution_count": null,
   "id": "b525e989",
   "metadata": {
    "papermill": {
     "duration": null,
     "end_time": null,
     "exception": null,
     "start_time": null,
     "status": "completed"
    },
    "tags": []
   },
   "outputs": [],
   "source": [
    "image_path = img_files[13210]\n",
    "print(image_path)\n",
    "\n",
    "image_name, image_ext = get_file_name_and_ext(img_path)\n",
    "img_label = image_name.split('_')[0]\n",
    "img_label = digit_to_label(img_label)\n",
    "\n",
    "singleImage = cv2.imread(image_path)\n",
    "histt = extract_color_histogram(singleImage)\n",
    "histt2 = histt.reshape(1, -1)\n",
    "prediction = model.predict(histt2)\n",
    "print(prediction)\n",
    "print(f\"Predicted as a {digit_to_label(prediction)}\")\n",
    "plt.imshow(cv2.cvtColor(singleImage, cv2.COLOR_BGR2RGB))\n",
    "plt.show()"
   ]
  }
 ],
 "metadata": {
  "kaggle": {
   "accelerator": "gpu",
   "dataSources": [
    {
     "datasetId": 5306889,
     "sourceId": 8821341,
     "sourceType": "datasetVersion"
    },
    {
     "datasetId": 5317179,
     "sourceId": 8835845,
     "sourceType": "datasetVersion"
    }
   ],
   "dockerImageVersionId": 30733,
   "isGpuEnabled": true,
   "isInternetEnabled": true,
   "language": "python",
   "sourceType": "notebook"
  },
  "kernelspec": {
   "display_name": "Python 3",
   "language": "python",
   "name": "python3"
  },
  "language_info": {
   "codemirror_mode": {
    "name": "ipython",
    "version": 3
   },
   "file_extension": ".py",
   "mimetype": "text/x-python",
   "name": "python",
   "nbconvert_exporter": "python",
   "pygments_lexer": "ipython3",
   "version": "3.10.14"
  },
  "papermill": {
   "default_parameters": {},
   "duration": 560.552579,
   "end_time": "2024-07-02T05:51:59.977460",
   "environment_variables": {},
   "exception": null,
   "input_path": "__notebook__.ipynb",
   "output_path": "__notebook__.ipynb",
   "parameters": {},
   "start_time": "2024-07-02T05:42:39.424881",
   "version": "2.5.0"
  }
 },
 "nbformat": 4,
 "nbformat_minor": 5
}
